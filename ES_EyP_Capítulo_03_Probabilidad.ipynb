{
  "nbformat": 4,
  "nbformat_minor": 0,
  "metadata": {
    "colab": {
      "name": "ES - EyP Capítulo 03: Probabilidad",
      "provenance": [],
      "collapsed_sections": [],
      "include_colab_link": true
    },
    "kernelspec": {
      "name": "python3",
      "display_name": "Python 3"
    },
    "language_info": {
      "name": "python"
    }
  },
  "cells": [
    {
      "cell_type": "markdown",
      "metadata": {
        "id": "view-in-github",
        "colab_type": "text"
      },
      "source": [
        "<a href=\"https://colab.research.google.com/github/joanby/trading-algoritmico-estadistica-probabilidad/blob/main/ES_EyP_Cap%C3%ADtulo_03_Probabilidad.ipynb\" target=\"_parent\"><img src=\"https://colab.research.google.com/assets/colab-badge.svg\" alt=\"Open In Colab\"/></a>"
      ]
    },
    {
      "cell_type": "markdown",
      "source": [
        "<p><img alt=\"Colaboratory logo\" height=\"45px\" src=\"https://www.quantreo.com/wp-content/uploads/2021/10/Original-on-Transparent.png\" align=\"left\" hspace=\"10px\" vspace=\"0px\">\n",
        "<img alt=\"Colaboratory logo\" height=\"45px\" src=\"https://static-881c.kxcdn.com/wp-content/uploads/2016/03/frogamesLogoFull4.png\" align=\"left\" hspace=\"10px\" vspace=\"0px\"></p>\n",
        "\n",
        "\n",
        "# Probabilidad\n",
        "\n",
        "\n",
        "<br>\n",
        "\n",
        "### Después de este capítulo serás capaz de:\n",
        "* Calcular y comprender las variables aleatoria\n",
        "* Calcular y comprender la intersección, la unión y la independencia\n",
        "* Calcular y comprender la probabilidad condicional\n",
        "<br>\n",
        "<br>\n",
        "<br>\n",
        "\n",
        "### Ejercicio (Trading):\n",
        "* Aplicar la probabilidad condicional al mercado de valores \n",
        "\n",
        "\n",
        "\n",
        "\n",
        "\n",
        "<br>\n",
        "<br>\n",
        "\n",
       "💰 Únete a la comunidad de [Discord](https://discord.gg/z3dx5XpkX4)\n",
        "\n",
        "📚 Puedes leer nuestro libro en [Amazon](https://www.amazon.es/Python-para-finanzas-trading-algor%C3%ADtmico-ebook/dp/B0BT4ZS9Q3/)\n",
        "\n",
        "🖥️ El canal de [YouTube de Quantreo's](https://www.youtube.com/channel/UCp7jckfiEglNf_Gj62VR0pw) (en inglés) y el de [Frogames](https://www.youtube.com/channel/UCMUxXNYrVCv6-bQakhomvBg) en español\n"
      ],
      "metadata": {
        "id": "TvesEpdqVwGJ"
      }
    },
    {
      "cell_type": "code",
      "source": [
        "!pip install yfinance"
      ],
      "metadata": {
        "id": "KxrcXdxjApwh",
        "colab": {
          "base_uri": "https://localhost:8080/"
        },
        "outputId": "dd6fdbe2-d117-4258-b871-12e1aa7c20a6"
      },
      "execution_count": 15,
      "outputs": [
        {
          "output_type": "stream",
          "name": "stdout",
          "text": [
            "Looking in indexes: https://pypi.org/simple, https://us-python.pkg.dev/colab-wheels/public/simple/\n",
            "Requirement already satisfied: yfinance in /usr/local/lib/python3.7/dist-packages (0.1.72)\n",
            "Requirement already satisfied: lxml>=4.5.1 in /usr/local/lib/python3.7/dist-packages (from yfinance) (4.9.1)\n",
            "Requirement already satisfied: multitasking>=0.0.7 in /usr/local/lib/python3.7/dist-packages (from yfinance) (0.0.10)\n",
            "Requirement already satisfied: numpy>=1.15 in /usr/local/lib/python3.7/dist-packages (from yfinance) (1.21.6)\n",
            "Requirement already satisfied: pandas>=0.24.0 in /usr/local/lib/python3.7/dist-packages (from yfinance) (1.3.5)\n",
            "Requirement already satisfied: requests>=2.26 in /usr/local/lib/python3.7/dist-packages (from yfinance) (2.28.1)\n",
            "Requirement already satisfied: python-dateutil>=2.7.3 in /usr/local/lib/python3.7/dist-packages (from pandas>=0.24.0->yfinance) (2.8.2)\n",
            "Requirement already satisfied: pytz>=2017.3 in /usr/local/lib/python3.7/dist-packages (from pandas>=0.24.0->yfinance) (2022.1)\n",
            "Requirement already satisfied: six>=1.5 in /usr/local/lib/python3.7/dist-packages (from python-dateutil>=2.7.3->pandas>=0.24.0->yfinance) (1.15.0)\n",
            "Requirement already satisfied: charset-normalizer<3,>=2 in /usr/local/lib/python3.7/dist-packages (from requests>=2.26->yfinance) (2.1.0)\n",
            "Requirement already satisfied: certifi>=2017.4.17 in /usr/local/lib/python3.7/dist-packages (from requests>=2.26->yfinance) (2022.6.15)\n",
            "Requirement already satisfied: idna<4,>=2.5 in /usr/local/lib/python3.7/dist-packages (from requests>=2.26->yfinance) (2.10)\n",
            "Requirement already satisfied: urllib3<1.27,>=1.21.1 in /usr/local/lib/python3.7/dist-packages (from requests>=2.26->yfinance) (1.24.3)\n"
          ]
        }
      ]
    },
    {
      "cell_type": "code",
      "source": [
        "!pip install ta"
      ],
      "metadata": {
        "colab": {
          "base_uri": "https://localhost:8080/"
        },
        "id": "8qzJSKnWHujg",
        "outputId": "3f4e9d3f-12a3-4d2b-f4d4-22c3d8f3bf30"
      },
      "execution_count": 16,
      "outputs": [
        {
          "output_type": "stream",
          "name": "stdout",
          "text": [
            "Looking in indexes: https://pypi.org/simple, https://us-python.pkg.dev/colab-wheels/public/simple/\n",
            "Requirement already satisfied: ta in /usr/local/lib/python3.7/dist-packages (0.10.1)\n",
            "Requirement already satisfied: numpy in /usr/local/lib/python3.7/dist-packages (from ta) (1.21.6)\n",
            "Requirement already satisfied: pandas in /usr/local/lib/python3.7/dist-packages (from ta) (1.3.5)\n",
            "Requirement already satisfied: python-dateutil>=2.7.3 in /usr/local/lib/python3.7/dist-packages (from pandas->ta) (2.8.2)\n",
            "Requirement already satisfied: pytz>=2017.3 in /usr/local/lib/python3.7/dist-packages (from pandas->ta) (2022.1)\n",
            "Requirement already satisfied: six>=1.5 in /usr/local/lib/python3.7/dist-packages (from python-dateutil>=2.7.3->pandas->ta) (1.15.0)\n"
          ]
        }
      ]
    },
    {
      "cell_type": "code",
      "source": [
        "!pip install scipy==1.7.1"
      ],
      "metadata": {
        "colab": {
          "base_uri": "https://localhost:8080/"
        },
        "id": "X_ToOxLTq9dK",
        "outputId": "89736dc3-f806-49df-fa04-13b9010dee53"
      },
      "execution_count": 3,
      "outputs": [
        {
          "output_type": "stream",
          "name": "stdout",
          "text": [
            "Looking in indexes: https://pypi.org/simple, https://us-python.pkg.dev/colab-wheels/public/simple/\n",
            "Collecting scipy==1.7.1\n",
            "  Downloading scipy-1.7.1-cp37-cp37m-manylinux_2_5_x86_64.manylinux1_x86_64.whl (28.5 MB)\n",
            "\u001b[K     |████████████████████████████████| 28.5 MB 12.3 MB/s \n",
            "\u001b[?25hRequirement already satisfied: numpy<1.23.0,>=1.16.5 in /usr/local/lib/python3.7/dist-packages (from scipy==1.7.1) (1.21.6)\n",
            "Installing collected packages: scipy\n",
            "  Attempting uninstall: scipy\n",
            "    Found existing installation: scipy 1.4.1\n",
            "    Uninstalling scipy-1.4.1:\n",
            "      Successfully uninstalled scipy-1.4.1\n",
            "\u001b[31mERROR: pip's dependency resolver does not currently take into account all the packages that are installed. This behaviour is the source of the following dependency conflicts.\n",
            "albumentations 0.1.12 requires imgaug<0.2.7,>=0.2.5, but you have imgaug 0.2.9 which is incompatible.\u001b[0m\n",
            "Successfully installed scipy-1.7.1\n"
          ]
        }
      ]
    },
    {
      "cell_type": "code",
      "execution_count": 4,
      "metadata": {
        "id": "IjjflNafVbtg"
      },
      "outputs": [],
      "source": [
        "import numpy as np\n",
        "import pandas as pd\n",
        "import yfinance as yf\n",
        "\n",
        "import warnings\n",
        "warnings.filterwarnings(\"ignore\")"
      ]
    },
    {
      "cell_type": "code",
      "source": [
        "# El código aquí te permitirá cambiar sus gráficos a modo oscuro para aquellos que elijan programar en modo oscuro\n",
        "import matplotlib.pyplot as plt\n",
        "\n",
        "import matplotlib as mpl\n",
        "from matplotlib import cycler\n",
        "colors = cycler('color',\n",
        "                ['#669FEE', '#66EE91', '#9988DD',\n",
        "                 '#EECC55', '#88BB44', '#FFBBBB'])\n",
        "plt.rc('figure', facecolor='#313233')\n",
        "plt.rc('axes', facecolor=\"#313233\", edgecolor='none',\n",
        "       axisbelow=True, grid=True, prop_cycle=colors,\n",
        "       labelcolor='gray')\n",
        "plt.rc('grid', color='474A4A', linestyle='solid')\n",
        "plt.rc('xtick', color='gray')\n",
        "plt.rc('ytick', direction='out', color='gray')\n",
        "plt.rc('legend', facecolor=\"#313233\", edgecolor=\"#313233\")\n",
        "plt.rc(\"text\", color=\"#C9C9C9\")"
      ],
      "metadata": {
        "id": "VUl31yuVNMq3"
      },
      "execution_count": 5,
      "outputs": []
    },
    {
      "cell_type": "code",
      "source": [
        "# Importar los datos y crear variaciones porcentuales de GOOGLE\n",
        "df = yf.download(\"GOOG\")[[\"Adj Close\"]].pct_change(1).dropna()\n",
        "df"
      ],
      "metadata": {
        "colab": {
          "base_uri": "https://localhost:8080/",
          "height": 473
        },
        "id": "cWDMBwA7BcPT",
        "outputId": "d3eef91a-cba5-4fef-9da4-bf8a9bf722c5"
      },
      "execution_count": 6,
      "outputs": [
        {
          "output_type": "stream",
          "name": "stdout",
          "text": [
            "\r[*********************100%***********************]  1 of 1 completed\n"
          ]
        },
        {
          "output_type": "execute_result",
          "data": {
            "text/plain": [
              "            Adj Close\n",
              "Date                 \n",
              "2004-08-20   0.079430\n",
              "2004-08-23   0.010064\n",
              "2004-08-24  -0.041408\n",
              "2004-08-25   0.010775\n",
              "2004-08-26   0.018019\n",
              "...               ...\n",
              "2022-07-01  -0.002665\n",
              "2022-07-05   0.044059\n",
              "2022-07-06   0.011648\n",
              "2022-07-07   0.035521\n",
              "2022-07-08   0.007229\n",
              "\n",
              "[4502 rows x 1 columns]"
            ],
            "text/html": [
              "\n",
              "  <div id=\"df-dbce95fb-8a9f-4a55-9f8d-daa0414cc8be\">\n",
              "    <div class=\"colab-df-container\">\n",
              "      <div>\n",
              "<style scoped>\n",
              "    .dataframe tbody tr th:only-of-type {\n",
              "        vertical-align: middle;\n",
              "    }\n",
              "\n",
              "    .dataframe tbody tr th {\n",
              "        vertical-align: top;\n",
              "    }\n",
              "\n",
              "    .dataframe thead th {\n",
              "        text-align: right;\n",
              "    }\n",
              "</style>\n",
              "<table border=\"1\" class=\"dataframe\">\n",
              "  <thead>\n",
              "    <tr style=\"text-align: right;\">\n",
              "      <th></th>\n",
              "      <th>Adj Close</th>\n",
              "    </tr>\n",
              "    <tr>\n",
              "      <th>Date</th>\n",
              "      <th></th>\n",
              "    </tr>\n",
              "  </thead>\n",
              "  <tbody>\n",
              "    <tr>\n",
              "      <th>2004-08-20</th>\n",
              "      <td>0.079430</td>\n",
              "    </tr>\n",
              "    <tr>\n",
              "      <th>2004-08-23</th>\n",
              "      <td>0.010064</td>\n",
              "    </tr>\n",
              "    <tr>\n",
              "      <th>2004-08-24</th>\n",
              "      <td>-0.041408</td>\n",
              "    </tr>\n",
              "    <tr>\n",
              "      <th>2004-08-25</th>\n",
              "      <td>0.010775</td>\n",
              "    </tr>\n",
              "    <tr>\n",
              "      <th>2004-08-26</th>\n",
              "      <td>0.018019</td>\n",
              "    </tr>\n",
              "    <tr>\n",
              "      <th>...</th>\n",
              "      <td>...</td>\n",
              "    </tr>\n",
              "    <tr>\n",
              "      <th>2022-07-01</th>\n",
              "      <td>-0.002665</td>\n",
              "    </tr>\n",
              "    <tr>\n",
              "      <th>2022-07-05</th>\n",
              "      <td>0.044059</td>\n",
              "    </tr>\n",
              "    <tr>\n",
              "      <th>2022-07-06</th>\n",
              "      <td>0.011648</td>\n",
              "    </tr>\n",
              "    <tr>\n",
              "      <th>2022-07-07</th>\n",
              "      <td>0.035521</td>\n",
              "    </tr>\n",
              "    <tr>\n",
              "      <th>2022-07-08</th>\n",
              "      <td>0.007229</td>\n",
              "    </tr>\n",
              "  </tbody>\n",
              "</table>\n",
              "<p>4502 rows × 1 columns</p>\n",
              "</div>\n",
              "      <button class=\"colab-df-convert\" onclick=\"convertToInteractive('df-dbce95fb-8a9f-4a55-9f8d-daa0414cc8be')\"\n",
              "              title=\"Convert this dataframe to an interactive table.\"\n",
              "              style=\"display:none;\">\n",
              "        \n",
              "  <svg xmlns=\"http://www.w3.org/2000/svg\" height=\"24px\"viewBox=\"0 0 24 24\"\n",
              "       width=\"24px\">\n",
              "    <path d=\"M0 0h24v24H0V0z\" fill=\"none\"/>\n",
              "    <path d=\"M18.56 5.44l.94 2.06.94-2.06 2.06-.94-2.06-.94-.94-2.06-.94 2.06-2.06.94zm-11 1L8.5 8.5l.94-2.06 2.06-.94-2.06-.94L8.5 2.5l-.94 2.06-2.06.94zm10 10l.94 2.06.94-2.06 2.06-.94-2.06-.94-.94-2.06-.94 2.06-2.06.94z\"/><path d=\"M17.41 7.96l-1.37-1.37c-.4-.4-.92-.59-1.43-.59-.52 0-1.04.2-1.43.59L10.3 9.45l-7.72 7.72c-.78.78-.78 2.05 0 2.83L4 21.41c.39.39.9.59 1.41.59.51 0 1.02-.2 1.41-.59l7.78-7.78 2.81-2.81c.8-.78.8-2.07 0-2.86zM5.41 20L4 18.59l7.72-7.72 1.47 1.35L5.41 20z\"/>\n",
              "  </svg>\n",
              "      </button>\n",
              "      \n",
              "  <style>\n",
              "    .colab-df-container {\n",
              "      display:flex;\n",
              "      flex-wrap:wrap;\n",
              "      gap: 12px;\n",
              "    }\n",
              "\n",
              "    .colab-df-convert {\n",
              "      background-color: #E8F0FE;\n",
              "      border: none;\n",
              "      border-radius: 50%;\n",
              "      cursor: pointer;\n",
              "      display: none;\n",
              "      fill: #1967D2;\n",
              "      height: 32px;\n",
              "      padding: 0 0 0 0;\n",
              "      width: 32px;\n",
              "    }\n",
              "\n",
              "    .colab-df-convert:hover {\n",
              "      background-color: #E2EBFA;\n",
              "      box-shadow: 0px 1px 2px rgba(60, 64, 67, 0.3), 0px 1px 3px 1px rgba(60, 64, 67, 0.15);\n",
              "      fill: #174EA6;\n",
              "    }\n",
              "\n",
              "    [theme=dark] .colab-df-convert {\n",
              "      background-color: #3B4455;\n",
              "      fill: #D2E3FC;\n",
              "    }\n",
              "\n",
              "    [theme=dark] .colab-df-convert:hover {\n",
              "      background-color: #434B5C;\n",
              "      box-shadow: 0px 1px 3px 1px rgba(0, 0, 0, 0.15);\n",
              "      filter: drop-shadow(0px 1px 2px rgba(0, 0, 0, 0.3));\n",
              "      fill: #FFFFFF;\n",
              "    }\n",
              "  </style>\n",
              "\n",
              "      <script>\n",
              "        const buttonEl =\n",
              "          document.querySelector('#df-dbce95fb-8a9f-4a55-9f8d-daa0414cc8be button.colab-df-convert');\n",
              "        buttonEl.style.display =\n",
              "          google.colab.kernel.accessAllowed ? 'block' : 'none';\n",
              "\n",
              "        async function convertToInteractive(key) {\n",
              "          const element = document.querySelector('#df-dbce95fb-8a9f-4a55-9f8d-daa0414cc8be');\n",
              "          const dataTable =\n",
              "            await google.colab.kernel.invokeFunction('convertToInteractive',\n",
              "                                                     [key], {});\n",
              "          if (!dataTable) return;\n",
              "\n",
              "          const docLinkHtml = 'Like what you see? Visit the ' +\n",
              "            '<a target=\"_blank\" href=https://colab.research.google.com/notebooks/data_table.ipynb>data table notebook</a>'\n",
              "            + ' to learn more about interactive tables.';\n",
              "          element.innerHTML = '';\n",
              "          dataTable['output_type'] = 'display_data';\n",
              "          await google.colab.output.renderOutput(dataTable, element);\n",
              "          const docLink = document.createElement('div');\n",
              "          docLink.innerHTML = docLinkHtml;\n",
              "          element.appendChild(docLink);\n",
              "        }\n",
              "      </script>\n",
              "    </div>\n",
              "  </div>\n",
              "  "
            ]
          },
          "metadata": {},
          "execution_count": 6
        }
      ]
    },
    {
      "cell_type": "markdown",
      "source": [
        "# Probabilidad"
      ],
      "metadata": {
        "id": "YOfASTqNGdbB"
      }
    },
    {
      "cell_type": "code",
      "source": [
        "# Calcula la probabilidad de una subida\n",
        "p_increase = len(df[df[\"Adj Close\"]>0])/len(df)*100\n",
        "\n",
        "# Calcula la probabilidad de una bajada\n",
        "p_decrease = len(df[df[\"Adj Close\"]<0])/len(df)*100\n",
        "\n",
        "# %Subida + %Bajada deben sumar (casi)  1\n",
        "print(f\"Probabilidades| \\t Subida: {'%.2f' % p_increase} \\t Bajada: {'%.2f' % p_decrease}\")"
      ],
      "metadata": {
        "id": "DQXzqR_qBeKc",
        "colab": {
          "base_uri": "https://localhost:8080/"
        },
        "outputId": "3a511376-e6d2-498c-b26e-bb4e29211194"
      },
      "execution_count": 7,
      "outputs": [
        {
          "output_type": "stream",
          "name": "stdout",
          "text": [
            "Probabilidades| \t Subida: 52.60 \t Bajada: 47.38\n"
          ]
        }
      ]
    },
    {
      "cell_type": "markdown",
      "source": [
        "# Probabilidad Condicionada"
      ],
      "metadata": {
        "id": "u53-gZycHkJ-"
      }
    },
    {
      "cell_type": "code",
      "source": [
        "# Clase de las bandas de Bollinger\n",
        "from ta.volatility import BollingerBands"
      ],
      "metadata": {
        "id": "jRQOgFVAG9tH"
      },
      "execution_count": 8,
      "outputs": []
    },
    {
      "cell_type": "code",
      "source": [
        "# Importar los datos \"Estacionarios\"\n",
        "\n",
        "# Importar el precio de cierre\n",
        "df = yf.download(\"EURUSD=X\")[[\"Adj Close\"]]\n",
        "\n",
        "# Creamos el retorno\n",
        "df[\"return\"] = df[\"Adj Close\"].pct_change(1).dropna()"
      ],
      "metadata": {
        "colab": {
          "base_uri": "https://localhost:8080/"
        },
        "id": "S-9p76xsIcPC",
        "outputId": "6fef70da-f1ac-45a7-c10f-a86debad0285"
      },
      "execution_count": 9,
      "outputs": [
        {
          "output_type": "stream",
          "name": "stdout",
          "text": [
            "\r[*********************100%***********************]  1 of 1 completed\n"
          ]
        }
      ]
    },
    {
      "cell_type": "code",
      "source": [
        "# Inicializamos la clase BB\n",
        "indicator_bb = BollingerBands(close=df[\"Adj Close\"], window=20, window_dev=1.5)\n",
        "\n",
        "# Añadimos las bandas de Bollinger\n",
        "df['bb_bbm'] = indicator_bb.bollinger_mavg()\n",
        "df['bb_bbh'] = indicator_bb.bollinger_hband()\n",
        "df['bb_bbl'] = indicator_bb.bollinger_lband()"
      ],
      "metadata": {
        "id": "UYH6ZI18IFPX"
      },
      "execution_count": 10,
      "outputs": []
    },
    {
      "cell_type": "code",
      "source": [
        "df[['Adj Close', 'bb_bbl', 'bb_bbh']].loc[\"2009\"].plot(figsize=(15,8))"
      ],
      "metadata": {
        "colab": {
          "base_uri": "https://localhost:8080/",
          "height": 526
        },
        "id": "BLZOncZlIJFF",
        "outputId": "c371970d-8641-4cf8-a5a9-5af203134dde"
      },
      "execution_count": 11,
      "outputs": [
        {
          "output_type": "execute_result",
          "data": {
            "text/plain": [
              "<matplotlib.axes._subplots.AxesSubplot at 0x7fae12774fd0>"
            ]
          },
          "metadata": {},
          "execution_count": 11
        },
        {
          "output_type": "display_data",
          "data": {
            "text/plain": [
              "<Figure size 1080x576 with 1 Axes>"
            ],
            "image/png": "[encoded data removed]"
          },
          "metadata": {}
        }
      ]
    },
    {
      "cell_type": "code",
      "source": [
        "# Importamos el precio de cierre\n",
        "df = yf.download(\"ETH-USD\")[[\"Adj Close\"]]\n",
        "\n",
        "# Creamos el retorno\n",
        "df[\"return\"] = df[\"Adj Close\"].pct_change(1).dropna()\n",
        "\n",
        "# Inicializamos la clase BB\n",
        "indicator_bb = BollingerBands(close=df[\"Adj Close\"], window=20, window_dev=1.5)\n",
        "\n",
        "# Añadimos las bandas de Bollinger\n",
        "df['bb_bbm'] = indicator_bb.bollinger_mavg()\n",
        "df['bb_bbh'] = indicator_bb.bollinger_hband()\n",
        "df['bb_bbl'] = indicator_bb.bollinger_lband()\n",
        "\n",
        "\n",
        "# Desplazamos los valores\n",
        "df[\"Adj Close Yesterday\"] = df[\"Adj Close\"].shift(1)\n",
        "df[\"bbh Yesterday\"] = df[\"bb_bbh\"].shift(1)\n",
        "\n",
        "# Eliminar la fila que contiene los valores que faltan\n",
        "df = df.dropna()\n",
        "\n",
        "\n",
        "# Inicialización de variables\n",
        "n = 10\n",
        "dates = []\n",
        "returns = []\n",
        "\n",
        "# \n",
        "for i in range(len(df)-n-1):\n",
        "  row = df.iloc[i:i+1,:]\n",
        "  \n",
        "  # Creación de la condición de señal\n",
        "  if (row[\"Adj Close Yesterday\"].values[0] < row[\"bbh Yesterday\"].values[0]) and\\\n",
        "  (row[\"Adj Close\"].values[0] > row[\"bb_bbh\"].values[0]):\n",
        "    \n",
        "    # Guardar la fecha\n",
        "    dates.append(row.index[0])\n",
        "    \n",
        "    # Calcula los rendimientos de la señal 10 días después \n",
        "    ret = []\n",
        "    for day in range(1,n):\n",
        "      ret.append(df.iloc[i+day:i+1+day,:][\"return\"].values[0])\n",
        "    returns.append(ret)\n",
        "\n",
        "# Lista de listas a data frame\n",
        "df_returns = pd.DataFrame(returns).cumsum(axis=1)"
      ],
      "metadata": {
        "colab": {
          "base_uri": "https://localhost:8080/"
        },
        "id": "ZOA_FpCMdggd",
        "outputId": "8320da3c-968c-431a-ee9f-1176a99dd63d"
      },
      "execution_count": 25,
      "outputs": [
        {
          "output_type": "stream",
          "name": "stdout",
          "text": [
            "\r[*********************100%***********************]  1 of 1 completed\n"
          ]
        }
      ]
    },
    {
      "cell_type": "code",
      "source": [
        "# Señal (1%, 0.5%, 0.8%, 0.5%, 0.5%, 6%, ...) -> (1%, 1.5%, 2.3%, 2.8%, 3.3%, 9.3%...)\n",
        "df_returns"
      ],
      "metadata": {
        "colab": {
          "base_uri": "https://localhost:8080/",
          "height": 424
        },
        "id": "09JQUJTI4LD3",
        "outputId": "3d2d5e57-2586-4a74-f5a3-beec511cfdd3"
      },
      "execution_count": 14,
      "outputs": [
        {
          "output_type": "execute_result",
          "data": {
            "text/plain": [
              "           0         1         2         3         4         5         6  \\\n",
              "0   0.264581  0.343386  0.333495  0.317157  0.334340  0.368477  0.472189   \n",
              "1   0.088503  0.107410  0.124535  0.168595  0.275624  0.271600  0.403256   \n",
              "2   0.096780  0.075547  0.020783 -0.163617 -0.201048 -0.179327 -0.176606   \n",
              "3   0.017744  0.078014  0.039355  0.023209  0.066747  0.148875  0.233098   \n",
              "4   0.082128  0.166351  0.149585  0.176782  0.210050  0.312159  0.181197   \n",
              "..       ...       ...       ...       ...       ...       ...       ...   \n",
              "70 -0.006321  0.031100 -0.018901 -0.067674 -0.071097 -0.082717 -0.065372   \n",
              "71  0.000310 -0.028811 -0.015695  0.010239  0.029725  0.055127  0.054680   \n",
              "72  0.019487  0.044888  0.044441  0.056192  0.103405  0.117094  0.136680   \n",
              "73 -0.001302  0.021273  0.020821 -0.010261 -0.080635 -0.061219 -0.073961   \n",
              "74 -0.000452 -0.031534 -0.101908 -0.082492 -0.095234 -0.073355 -0.088698   \n",
              "\n",
              "           7         8  \n",
              "0   0.512682  0.503325  \n",
              "1   0.369464  0.289126  \n",
              "2  -0.064923 -0.156313  \n",
              "3   0.216332  0.243529  \n",
              "4   0.258206  0.234403  \n",
              "..       ...       ...  \n",
              "70  0.018624  0.002256  \n",
              "71  0.066431  0.113644  \n",
              "72  0.131733  0.101154  \n",
              "73 -0.052081 -0.067425  \n",
              "74 -0.160561 -0.144015  \n",
              "\n",
              "[75 rows x 9 columns]"
            ],
            "text/html": [
              "\n",
              "  <div id=\"df-63d3f175-2069-4340-b5a7-0196f7d16b1c\">\n",
              "    <div class=\"colab-df-container\">\n",
              "      <div>\n",
              "<style scoped>\n",
              "    .dataframe tbody tr th:only-of-type {\n",
              "        vertical-align: middle;\n",
              "    }\n",
              "\n",
              "    .dataframe tbody tr th {\n",
              "        vertical-align: top;\n",
              "    }\n",
              "\n",
              "    .dataframe thead th {\n",
              "        text-align: right;\n",
              "    }\n",
              "</style>\n",
              "<table border=\"1\" class=\"dataframe\">\n",
              "  <thead>\n",
              "    <tr style=\"text-align: right;\">\n",
              "      <th></th>\n",
              "      <th>0</th>\n",
              "      <th>1</th>\n",
              "      <th>2</th>\n",
              "      <th>3</th>\n",
              "      <th>4</th>\n",
              "      <th>5</th>\n",
              "      <th>6</th>\n",
              "      <th>7</th>\n",
              "      <th>8</th>\n",
              "    </tr>\n",
              "  </thead>\n",
              "  <tbody>\n",
              "    <tr>\n",
              "      <th>0</th>\n",
              "      <td>0.264581</td>\n",
              "      <td>0.343386</td>\n",
              "      <td>0.333495</td>\n",
              "      <td>0.317157</td>\n",
              "      <td>0.334340</td>\n",
              "      <td>0.368477</td>\n",
              "      <td>0.472189</td>\n",
              "      <td>0.512682</td>\n",
              "      <td>0.503325</td>\n",
              "    </tr>\n",
              "    <tr>\n",
              "      <th>1</th>\n",
              "      <td>0.088503</td>\n",
              "      <td>0.107410</td>\n",
              "      <td>0.124535</td>\n",
              "      <td>0.168595</td>\n",
              "      <td>0.275624</td>\n",
              "      <td>0.271600</td>\n",
              "      <td>0.403256</td>\n",
              "      <td>0.369464</td>\n",
              "      <td>0.289126</td>\n",
              "    </tr>\n",
              "    <tr>\n",
              "      <th>2</th>\n",
              "      <td>0.096780</td>\n",
              "      <td>0.075547</td>\n",
              "      <td>0.020783</td>\n",
              "      <td>-0.163617</td>\n",
              "      <td>-0.201048</td>\n",
              "      <td>-0.179327</td>\n",
              "      <td>-0.176606</td>\n",
              "      <td>-0.064923</td>\n",
              "      <td>-0.156313</td>\n",
              "    </tr>\n",
              "    <tr>\n",
              "      <th>3</th>\n",
              "      <td>0.017744</td>\n",
              "      <td>0.078014</td>\n",
              "      <td>0.039355</td>\n",
              "      <td>0.023209</td>\n",
              "      <td>0.066747</td>\n",
              "      <td>0.148875</td>\n",
              "      <td>0.233098</td>\n",
              "      <td>0.216332</td>\n",
              "      <td>0.243529</td>\n",
              "    </tr>\n",
              "    <tr>\n",
              "      <th>4</th>\n",
              "      <td>0.082128</td>\n",
              "      <td>0.166351</td>\n",
              "      <td>0.149585</td>\n",
              "      <td>0.176782</td>\n",
              "      <td>0.210050</td>\n",
              "      <td>0.312159</td>\n",
              "      <td>0.181197</td>\n",
              "      <td>0.258206</td>\n",
              "      <td>0.234403</td>\n",
              "    </tr>\n",
              "    <tr>\n",
              "      <th>...</th>\n",
              "      <td>...</td>\n",
              "      <td>...</td>\n",
              "      <td>...</td>\n",
              "      <td>...</td>\n",
              "      <td>...</td>\n",
              "      <td>...</td>\n",
              "      <td>...</td>\n",
              "      <td>...</td>\n",
              "      <td>...</td>\n",
              "    </tr>\n",
              "    <tr>\n",
              "      <th>70</th>\n",
              "      <td>-0.006321</td>\n",
              "      <td>0.031100</td>\n",
              "      <td>-0.018901</td>\n",
              "      <td>-0.067674</td>\n",
              "      <td>-0.071097</td>\n",
              "      <td>-0.082717</td>\n",
              "      <td>-0.065372</td>\n",
              "      <td>0.018624</td>\n",
              "      <td>0.002256</td>\n",
              "    </tr>\n",
              "    <tr>\n",
              "      <th>71</th>\n",
              "      <td>0.000310</td>\n",
              "      <td>-0.028811</td>\n",
              "      <td>-0.015695</td>\n",
              "      <td>0.010239</td>\n",
              "      <td>0.029725</td>\n",
              "      <td>0.055127</td>\n",
              "      <td>0.054680</td>\n",
              "      <td>0.066431</td>\n",
              "      <td>0.113644</td>\n",
              "    </tr>\n",
              "    <tr>\n",
              "      <th>72</th>\n",
              "      <td>0.019487</td>\n",
              "      <td>0.044888</td>\n",
              "      <td>0.044441</td>\n",
              "      <td>0.056192</td>\n",
              "      <td>0.103405</td>\n",
              "      <td>0.117094</td>\n",
              "      <td>0.136680</td>\n",
              "      <td>0.131733</td>\n",
              "      <td>0.101154</td>\n",
              "    </tr>\n",
              "    <tr>\n",
              "      <th>73</th>\n",
              "      <td>-0.001302</td>\n",
              "      <td>0.021273</td>\n",
              "      <td>0.020821</td>\n",
              "      <td>-0.010261</td>\n",
              "      <td>-0.080635</td>\n",
              "      <td>-0.061219</td>\n",
              "      <td>-0.073961</td>\n",
              "      <td>-0.052081</td>\n",
              "      <td>-0.067425</td>\n",
              "    </tr>\n",
              "    <tr>\n",
              "      <th>74</th>\n",
              "      <td>-0.000452</td>\n",
              "      <td>-0.031534</td>\n",
              "      <td>-0.101908</td>\n",
              "      <td>-0.082492</td>\n",
              "      <td>-0.095234</td>\n",
              "      <td>-0.073355</td>\n",
              "      <td>-0.088698</td>\n",
              "      <td>-0.160561</td>\n",
              "      <td>-0.144015</td>\n",
              "    </tr>\n",
              "  </tbody>\n",
              "</table>\n",
              "<p>75 rows × 9 columns</p>\n",
              "</div>\n",
              "      <button class=\"colab-df-convert\" onclick=\"convertToInteractive('df-63d3f175-2069-4340-b5a7-0196f7d16b1c')\"\n",
              "              title=\"Convert this dataframe to an interactive table.\"\n",
              "              style=\"display:none;\">\n",
              "        \n",
              "  <svg xmlns=\"http://www.w3.org/2000/svg\" height=\"24px\"viewBox=\"0 0 24 24\"\n",
              "       width=\"24px\">\n",
              "    <path d=\"M0 0h24v24H0V0z\" fill=\"none\"/>\n",
              "    <path d=\"M18.56 5.44l.94 2.06.94-2.06 2.06-.94-2.06-.94-.94-2.06-.94 2.06-2.06.94zm-11 1L8.5 8.5l.94-2.06 2.06-.94-2.06-.94L8.5 2.5l-.94 2.06-2.06.94zm10 10l.94 2.06.94-2.06 2.06-.94-2.06-.94-.94-2.06-.94 2.06-2.06.94z\"/><path d=\"M17.41 7.96l-1.37-1.37c-.4-.4-.92-.59-1.43-.59-.52 0-1.04.2-1.43.59L10.3 9.45l-7.72 7.72c-.78.78-.78 2.05 0 2.83L4 21.41c.39.39.9.59 1.41.59.51 0 1.02-.2 1.41-.59l7.78-7.78 2.81-2.81c.8-.78.8-2.07 0-2.86zM5.41 20L4 18.59l7.72-7.72 1.47 1.35L5.41 20z\"/>\n",
              "  </svg>\n",
              "      </button>\n",
              "      \n",
              "  <style>\n",
              "    .colab-df-container {\n",
              "      display:flex;\n",
              "      flex-wrap:wrap;\n",
              "      gap: 12px;\n",
              "    }\n",
              "\n",
              "    .colab-df-convert {\n",
              "      background-color: #E8F0FE;\n",
              "      border: none;\n",
              "      border-radius: 50%;\n",
              "      cursor: pointer;\n",
              "      display: none;\n",
              "      fill: #1967D2;\n",
              "      height: 32px;\n",
              "      padding: 0 0 0 0;\n",
              "      width: 32px;\n",
              "    }\n",
              "\n",
              "    .colab-df-convert:hover {\n",
              "      background-color: #E2EBFA;\n",
              "      box-shadow: 0px 1px 2px rgba(60, 64, 67, 0.3), 0px 1px 3px 1px rgba(60, 64, 67, 0.15);\n",
              "      fill: #174EA6;\n",
              "    }\n",
              "\n",
              "    [theme=dark] .colab-df-convert {\n",
              "      background-color: #3B4455;\n",
              "      fill: #D2E3FC;\n",
              "    }\n",
              "\n",
              "    [theme=dark] .colab-df-convert:hover {\n",
              "      background-color: #434B5C;\n",
              "      box-shadow: 0px 1px 3px 1px rgba(0, 0, 0, 0.15);\n",
              "      filter: drop-shadow(0px 1px 2px rgba(0, 0, 0, 0.3));\n",
              "      fill: #FFFFFF;\n",
              "    }\n",
              "  </style>\n",
              "\n",
              "      <script>\n",
              "        const buttonEl =\n",
              "          document.querySelector('#df-63d3f175-2069-4340-b5a7-0196f7d16b1c button.colab-df-convert');\n",
              "        buttonEl.style.display =\n",
              "          google.colab.kernel.accessAllowed ? 'block' : 'none';\n",
              "\n",
              "        async function convertToInteractive(key) {\n",
              "          const element = document.querySelector('#df-63d3f175-2069-4340-b5a7-0196f7d16b1c');\n",
              "          const dataTable =\n",
              "            await google.colab.kernel.invokeFunction('convertToInteractive',\n",
              "                                                     [key], {});\n",
              "          if (!dataTable) return;\n",
              "\n",
              "          const docLinkHtml = 'Like what you see? Visit the ' +\n",
              "            '<a target=\"_blank\" href=https://colab.research.google.com/notebooks/data_table.ipynb>data table notebook</a>'\n",
              "            + ' to learn more about interactive tables.';\n",
              "          element.innerHTML = '';\n",
              "          dataTable['output_type'] = 'display_data';\n",
              "          await google.colab.output.renderOutput(dataTable, element);\n",
              "          const docLink = document.createElement('div');\n",
              "          docLink.innerHTML = docLinkHtml;\n",
              "          element.appendChild(docLink);\n",
              "        }\n",
              "      </script>\n",
              "    </div>\n",
              "  </div>\n",
              "  "
            ]
          },
          "metadata": {},
          "execution_count": 14
        }
      ]
    },
    {
      "cell_type": "code",
      "source": [
        "# Representamos todas las señales para asegurarnos de que son correctas\n",
        "\n",
        "# Seleccionar toda la señal en una lista de índices para representar sólo estos puntos\n",
        "idx = dates\n",
        "year=\"2019\"\n",
        "\n",
        "# Adaptar el tamaño del gráfico\n",
        "plt.figure(figsize=(15,6))\n",
        "\n",
        "# Representamos los puntos de la señal larga abierta en verde\n",
        "plt.scatter(df.loc[idx].loc[year].index, df.loc[idx][\"Adj Close\"].loc[year], color= \"#57CE95\", marker=\"^\")\n",
        "\n",
        "# Representamos los puntos de la señal larga cercana en azul\n",
        "\n",
        "# Representamos el rsi para asegurarse de que las condiciones se completan\n",
        "plt.plot(df[\"Adj Close\"].loc[year].index, df[\"Adj Close\"].loc[year], alpha=0.35)\n",
        "plt.plot(df[\"bb_bbl\"].loc[year].index, df[\"bb_bbl\"].loc[year], alpha=0.35)\n",
        "plt.plot(df[\"bb_bbh\"].loc[year].index, df[\"bb_bbh\"].loc[year], alpha=0.35)\n",
        "\n",
        "\n",
        "\n",
        "# Mostrar la representación gráfica\n",
        "plt.show()"
      ],
      "metadata": {
        "colab": {
          "base_uri": "https://localhost:8080/",
          "height": 374
        },
        "id": "wQpuMYFQTdBY",
        "outputId": "c21cb05e-99ab-4221-f044-71cf9bcc1311"
      },
      "execution_count": 31,
      "outputs": [
        {
          "output_type": "display_data",
          "data": {
            "text/plain": [
              "<Figure size 1080x432 with 1 Axes>"
            ],
            "image/png": "[encoded data removed]"
          },
          "metadata": {}
        }
      ]
    },
    {
      "cell_type": "code",
      "source": [
        "# Computar %Aumento %Disminución de los rendimientos de la señal a 10 días\n",
        "for i in range(n-1):\n",
        "  g = df_returns.iloc[:,i:i+1].values - 0.01\n",
        "  p_increase = len(g[g>0])/len(g)*100\n",
        "  p_decrease = len(g[g<0])/len(g)*100\n",
        "\n",
        "  print(f\"Probabilidades día {i+1}| \\t Aumento: {'%.2f' % p_increase} %\\t Disminución: {'%.2f' % p_decrease} %\")\n",
        "print(f\" \")\n",
        "\n",
        "# Computar %Aumento %Disminución del activo en todas las situaciones\n",
        "p_increase = len(df[df[\"return\"]>0])/len(df)*100\n",
        "p_decrease = len(df[df[\"return\"]<0])/len(df)*100\n",
        "print(f\"Probabilidades| \\t Aumento: {'%.2f' % p_increase} % \\t Disminución: {'%.2f' % p_decrease} % \")"
      ],
      "metadata": {
        "colab": {
          "base_uri": "https://localhost:8080/"
        },
        "id": "SPQn_inJie9D",
        "outputId": "dcc8a89c-5469-4fdf-e8e4-b7ea90f1f0e8"
      },
      "execution_count": 33,
      "outputs": [
        {
          "output_type": "stream",
          "name": "stdout",
          "text": [
            "Probabilidades día 1| \t Aumento: 42.67 %\t Disminución: 57.33 %\n",
            "Probabilidades día 2| \t Aumento: 57.33 %\t Disminución: 42.67 %\n",
            "Probabilidades día 3| \t Aumento: 57.33 %\t Disminución: 42.67 %\n",
            "Probabilidades día 4| \t Aumento: 56.00 %\t Disminución: 44.00 %\n",
            "Probabilidades día 5| \t Aumento: 58.67 %\t Disminución: 41.33 %\n",
            "Probabilidades día 6| \t Aumento: 58.67 %\t Disminución: 41.33 %\n",
            "Probabilidades día 7| \t Aumento: 62.67 %\t Disminución: 37.33 %\n",
            "Probabilidades día 8| \t Aumento: 68.00 %\t Disminución: 32.00 %\n",
            "Probabilidades día 9| \t Aumento: 65.33 %\t Disminución: 34.67 %\n",
            " \n",
            "Probabilidades| \t Aumento: 51.48 % \t Disminución: 48.52 % \n"
          ]
        }
      ]
    },
    {
      "cell_type": "code",
      "source": [
        "n = 8\n",
        "\n",
        "dft = df[\"Adj Close\"].pct_change(n).dropna()\n",
        "\n",
        "# Computar %Aumento %Disminución del activo en todas las situaciones\n",
        "p_increase = len(dft[dft>0])/len(dft)*100\n",
        "p_decrease = len(dft[dft<0])/len(dft)*100\n",
        "print(f\"Probabilidades| \\t Aumento: {'%.2f' % p_increase} % \\t Disminución: {'%.2f' % p_decrease} % \")"
      ],
      "metadata": {
        "id": "Y3g9kCgMivq0",
        "colab": {
          "base_uri": "https://localhost:8080/"
        },
        "outputId": "9659b6a2-cab2-47f2-df99-1a47a43a6b4d"
      },
      "execution_count": 34,
      "outputs": [
        {
          "output_type": "stream",
          "name": "stdout",
          "text": [
            "Probabilidades| \t Aumento: 52.80 % \t Disminución: 47.20 % \n"
          ]
        }
      ]
    },
    {
      "cell_type": "markdown",
      "source": [
        "# Contrastes de hipótesis \n",
        "Esta parte viene con el capítulo \"Contrastes de hipótesis\". No lo leas antes si no te sientes cómodo con ellos."
      ],
      "metadata": {
        "id": "D00HeJDSpJWg"
      }
    },
    {
      "cell_type": "code",
      "source": [
        "import scipy\n",
        "scipy.__version__"
      ],
      "metadata": {
        "colab": {
          "base_uri": "https://localhost:8080/",
          "height": 37
        },
        "id": "omemyZ58c72W",
        "outputId": "ecba380d-d816-4499-ae89-1132021075cc"
      },
      "execution_count": null,
      "outputs": [
        {
          "output_type": "execute_result",
          "data": {
            "application/vnd.google.colaboratory.intrinsic+json": {
              "type": "string"
            },
            "text/plain": [
              "'1.7.1'"
            ]
          },
          "metadata": {},
          "execution_count": 11
        }
      ]
    },
    {
      "cell_type": "code",
      "source": [
        "from scipy.stats import ttest_ind\n",
        "\n",
        "# H0: RETURN_bollinger ≤ RETURN_normal\n",
        "# H1: RETURN_bollinger > RETURN_normal\n",
        "# Alpha: 0.05=5%\n",
        "\n",
        "p = ttest_ind(dft, df_returns.iloc[:,-1].values,alternative=\"less\").pvalue\n",
        "print(f\"H0: Estrategia de retorno ≤ Retornos aleatorios \\t p-valor: {np.round(p*100,2)} %\")"
      ],
      "metadata": {
        "colab": {
          "base_uri": "https://localhost:8080/"
        },
        "id": "14k_kcsynJ1D",
        "outputId": "b7e32c04-adb8-4a0e-aa45-7f337a6f75a5"
      },
      "execution_count": null,
      "outputs": [
        {
          "output_type": "stream",
          "name": "stdout",
          "text": [
            "H0: Strategy returns ≤ Random returns \t p_value: 0.8 %\n"
          ]
        }
      ]
    },
    {
      "cell_type": "markdown",
      "source": [
        "Tenemos un p-valor de ***0,8%***. Significa que hay un 0,8% de posibilidades de que la media de la rentabilidad de la estrategia sea inferior o igual a la media de la rentabilidad. Por lo tanto, podemos rechazar H0."
      ],
      "metadata": {
        "id": "Hz7TGqB2LAx8"
      }
    },
    {
      "cell_type": "code",
      "source": [
        ""
      ],
      "metadata": {
        "id": "i0tQnZFSBWfq"
      },
      "execution_count": null,
      "outputs": []
    }
  ]
}