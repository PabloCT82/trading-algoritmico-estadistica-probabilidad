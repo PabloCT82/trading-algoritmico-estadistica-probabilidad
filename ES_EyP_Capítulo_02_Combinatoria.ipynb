{
  "nbformat": 4,
  "nbformat_minor": 0,
  "metadata": {
    "colab": {
      "name": "ES - EyP Capítulo 02: Combinatoria",
      "provenance": [],
      "collapsed_sections": [],
      "include_colab_link": true
    },
    "kernelspec": {
      "name": "python3",
      "display_name": "Python 3"
    },
    "language_info": {
      "name": "python"
    }
  },
  "cells": [
    {
      "cell_type": "markdown",
      "metadata": {
        "id": "view-in-github",
        "colab_type": "text"
      },
      "source": [
        "<a href=\"https://colab.research.google.com/github/joanby/trading-algoritmico-estadistica-probabilidad/blob/main/ES_EyP_Cap%C3%ADtulo_02_Combinatoria.ipynb\" target=\"_parent\"><img src=\"https://colab.research.google.com/assets/colab-badge.svg\" alt=\"Open In Colab\"/></a>"
      ]
    },
    {
      "cell_type": "markdown",
      "source": [
        "<p><img alt=\"Colaboratory logo\" height=\"45px\" src=\"https://www.quantreo.com/wp-content/uploads/2021/10/Original-on-Transparent.png\" align=\"left\" hspace=\"10px\" vspace=\"0px\">\n",
        "<img alt=\"Colaboratory logo\" height=\"45px\" src=\"https://static-881c.kxcdn.com/wp-content/uploads/2016/03/frogamesLogoFull4.png\" align=\"left\" hspace=\"10px\" vspace=\"0px\"></p>\n",
        "\n",
        "# Combinatoria\n",
        "\n",
        "\n",
        "<br>\n",
        "\n",
        "### Después de este capítulo serás capaz de:\n",
        "* Calcular y entender cómo interpretar las permutaciones\n",
        "* Calcular y entender cómo interprar las variaciones\n",
        "* Calcular y entender cómo interpretar las combinaciones\n",
        "\n",
        "\n",
        "<br>\n",
        "<br>\n",
        "<br>\n",
        "\n",
        "### Ejercicios (de Trading):\n",
        "* Calcular el número de combinaciones entre las siguientes monedas: USD, EUR,CAD. (Suponiendo que EUR/USD = USD/EUR).\n",
        "* Calcular el número de permutaciones entre las siguientes monedas: USD, EUR,CAD. (Suponiendo que EUR/USD != USD/EUR)\n",
        "\n",
        "<br>\n",
        "<br>\n",
        "\n",
        "💰 Únete a la comunidad de [Discord](https://discord.gg/z3dx5XpkX4)\n",
        "\n",
        "📚 Puedes leer nuestro libro en [Amazon](https://www.amazon.es/Python-para-finanzas-trading-algor%C3%ADtmico-ebook/dp/B0BT4ZS9Q3/)\n",
        "\n",
        "🖥️ El canal de [YouTube de Quantreo's](https://www.youtube.com/channel/UCp7jckfiEglNf_Gj62VR0pw) (en inglés) y el de [Frogames](https://www.youtube.com/channel/UCMUxXNYrVCv6-bQakhomvBg) en español\n",
        "\n",
        "\n"
      ],
      "metadata": {
        "id": "TvesEpdqVwGJ"
      }
    },
    {
      "cell_type": "code",
      "source": [
        "np.math.factorial(n)"
      ],
      "metadata": {
        "id": "s26LTVLA9cg-"
      },
      "execution_count": null,
      "outputs": []
    },
    {
      "cell_type": "markdown",
      "source": [
        "\n",
        "# Ejercicios (de Trading):\n",
        "* Calcular el número de combinaciones entre las siguientes monedas: USD, EUR,CAD. (Suponiendo que EUR/USD = USD/EUR).\n",
        "* Calcular el número de permutaciones entre las siguientes monedas: USD, EUR,CAD. (Suponiendo que EUR/USD != USD/EUR)\n"
      ],
      "metadata": {
        "id": "7TDIjOwyAVFe"
      }
    },
    {
      "cell_type": "code",
      "source": [
        "import numpy as np"
      ],
      "metadata": {
        "id": "KxrcXdxjApwh"
      },
      "execution_count": 1,
      "outputs": []
    },
    {
      "cell_type": "code",
      "execution_count": 2,
      "metadata": {
        "id": "IjjflNafVbtg"
      },
      "outputs": [],
      "source": [
        "def combination(n,k, repetition=False):\n",
        "\n",
        "  if repetition:\n",
        "    C = np.math.factorial(n+k-1) / (np.math.factorial(k)*np.math.factorial(n-1))\n",
        "  else:\n",
        "    C = np.math.factorial(n) / (np.math.factorial(k)*np.math.factorial(n-k))\n",
        "  \n",
        "  return C\n",
        "\n"
      ]
    },
    {
      "cell_type": "code",
      "source": [
        "combination(3,2)"
      ],
      "metadata": {
        "colab": {
          "base_uri": "https://localhost:8080/"
        },
        "id": "nOE2x6JI-CCB",
        "outputId": "4a9ad4d0-d6a4-465c-8fa2-15d4d234ac34"
      },
      "execution_count": 3,
      "outputs": [
        {
          "output_type": "execute_result",
          "data": {
            "text/plain": [
              "3.0"
            ]
          },
          "metadata": {},
          "execution_count": 3
        }
      ]
    },
    {
      "cell_type": "code",
      "source": [
        "def arrangement(n,k, repetition=False):\n",
        "\n",
        "  if repetition:\n",
        "    A = n**k\n",
        "  else:\n",
        "    A = np.math.factorial(n) / np.math.factorial(n-k)\n",
        "  \n",
        "  return A\n"
      ],
      "metadata": {
        "id": "DQXzqR_qBeKc"
      },
      "execution_count": 4,
      "outputs": []
    },
    {
      "cell_type": "code",
      "source": [
        "arrangement(3,2)"
      ],
      "metadata": {
        "colab": {
          "base_uri": "https://localhost:8080/"
        },
        "id": "dxbDo17DAVSn",
        "outputId": "0765897e-8186-4cfc-dbca-3eb88b41819f"
      },
      "execution_count": 5,
      "outputs": [
        {
          "output_type": "execute_result",
          "data": {
            "text/plain": [
              "6.0"
            ]
          },
          "metadata": {},
          "execution_count": 5
        }
      ]
    }
  ]
}